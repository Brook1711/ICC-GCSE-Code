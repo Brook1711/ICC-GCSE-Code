{
 "cells": [
  {
   "cell_type": "code",
   "execution_count": 1,
   "metadata": {
    "is_executing": true
   },
   "outputs": [],
   "source": [
    "import matplotlib.pyplot as plt\n",
    "import numpy as np\n",
    "# import networkx as nx\n",
    "# fix the seed\n",
    "np.random.seed(0)"
   ]
  },
  {
   "cell_type": "code",
   "execution_count": 2,
   "metadata": {
    "is_executing": true
   },
   "outputs": [],
   "source": [
    "# spacing_factor = 4\n",
    "# N_side = 33\n",
    "spacing_factor = 4\n",
    "N_side = 129\n",
    "cluster_para = {\n",
    "    # 'alpha': 120,\n",
    "    'clusters': {\n",
    "        0 : {\n",
    "            'alpha': 120,\n",
    "            'theta': 0.5,\n",
    "            'phi': 1.,\n",
    "            'weight': 0.3\n",
    "        },\n",
    "        1 : {\n",
    "            'alpha': 120,\n",
    "            'theta': -0.5,\n",
    "            'phi': 2.,\n",
    "            'weight': 0.3\n",
    "        },\n",
    "        2 : {\n",
    "            'alpha': 120,\n",
    "            'theta': 0.5,\n",
    "            'phi': 3.,\n",
    "            'weight': 0.2\n",
    "        },\n",
    "        3 : {\n",
    "            'alpha': 120,\n",
    "            'theta': 0.,\n",
    "            'phi': 0.,\n",
    "            'weight': 0.2\n",
    "        },\n",
    "    },\n",
    "}"
   ]
  },
  {
   "cell_type": "markdown",
   "metadata": {},
   "source": [
    "#### Parameters Initialization"
   ]
  },
  {
   "cell_type": "markdown",
   "metadata": {},
   "source": [
    "$$\n",
    "{\\bf y} = {\\bf C} {\\bf \\Psi} {\\bf h}_s\n",
    "$$"
   ]
  },
  {
   "cell_type": "code",
   "execution_count": 3,
   "metadata": {
    "is_executing": true
   },
   "outputs": [],
   "source": [
    "f_c = 7e9 # carrier frequency\n",
    "N_x = N_side # number of antennas in x direction\n",
    "N_y = N_side # number of antennas in y direction\n",
    "lambda_c = 3e8/f_c # wavelength\n",
    "k_c = 2*np.pi/lambda_c # wave number\n",
    "delta = lambda_c/ spacing_factor # antenna spacing\n",
    "\n",
    "N = int(N_x*N_y) # total number of antennas\n",
    "\n",
    "L_x = (N_x-1) * delta # length of antenna array in x direction\n",
    "L_y = (N_y-1) * delta # length of antenna array in y direction"
   ]
  },
  {
   "cell_type": "markdown",
   "metadata": {},
   "source": [
    "#### wavenumber domain"
   ]
  },
  {
   "cell_type": "markdown",
   "metadata": {},
   "source": [
    "$$\n",
    "\\xi = \\left\\{\\left(l_x , l_y\\right) \\mid \\left(\\frac{2 \\pi l_x}{L_x}\\right)^2+\\left(\\frac{2 \\pi l_y}{L_y}\\right)^2 \\leq\\left(\\frac{2 \\pi}{\\lambda}\\right)^2 \\right\\}\n",
    "$$"
   ]
  },
  {
   "cell_type": "code",
   "execution_count": 4,
   "metadata": {
    "is_executing": true
   },
   "outputs": [
    {
     "name": "stdout",
     "output_type": "stream",
     "text": [
      "l_x_abs_max =  32\n",
      "l_y_abs_max =  32\n",
      "n_x_abs_max =  64\n",
      "n_y_abs_max =  64\n"
     ]
    }
   ],
   "source": [
    "xi = []\n",
    "l_x_abs_max = int(L_x / lambda_c)\n",
    "l_y_abs_max = int(L_y / lambda_c)\n",
    "print(\"l_x_abs_max = \", l_x_abs_max)\n",
    "print(\"l_y_abs_max = \", l_y_abs_max)\n",
    "\n",
    "# for start with -l_x_abs_max to l_x_abs_max\n",
    "for l_x in range(-l_x_abs_max, l_x_abs_max + 1):\n",
    "    # for start with -l_y_abs_max to l_y_abs_max\n",
    "    for l_y in range(-l_y_abs_max, l_y_abs_max + 1):\n",
    "        k_x = 2 * np.pi * l_x / L_x\n",
    "        k_y = 2 * np.pi * l_y / L_y\n",
    "        if k_x ** 2 + k_y ** 2 < (2 * np.pi / lambda_c) ** 2:\n",
    "            xi.append((l_x, l_y))\n",
    "\n",
    "xi_AD = [] # angular domain index pair\n",
    "\n",
    "n_x_abs_max = int((N_x - 1) / 2)\n",
    "n_y_abs_max = int((N_y - 1) / 2)\n",
    "print(\"n_x_abs_max = \", n_x_abs_max)\n",
    "print(\"n_y_abs_max = \", n_y_abs_max)\n",
    "\n",
    "# for start with -n_x_abs_max to n_x_abs_max\n",
    "for n_x in range(-n_x_abs_max, n_x_abs_max + 1): \n",
    "    # for start with -n_y_abs_max to n_y_abs_max\n",
    "    for n_y in range(-n_y_abs_max, n_y_abs_max + 1):\n",
    "        xi_AD.append((n_x, n_y))"
   ]
  },
  {
   "cell_type": "markdown",
   "metadata": {},
   "source": [
    "#### From wavenumber to angles"
   ]
  },
  {
   "cell_type": "markdown",
   "metadata": {},
   "source": [
    "$$\n",
    "\\begin{aligned}\n",
    "& k_x=k_c \\sin \\theta \\cos \\phi \\stackrel{\\text { yields }}{\\longrightarrow} \\phi=\\operatorname{sgn}\\left(k_y\\right) \\arccos \\frac{k_x}{\\sqrt{k_x^2+k_y^2}} \\\\\n",
    "& k_y=k_c \\sin \\theta \\sin \\phi \\stackrel{\\text { yields }}{\\longrightarrow} \\theta=\\arccos \\frac{\\sqrt{k_c^2-k_x^2-k_y^2}}{k_c}\n",
    "\\end{aligned}\n",
    "$$"
   ]
  },
  {
   "cell_type": "code",
   "execution_count": 5,
   "metadata": {
    "is_executing": true
   },
   "outputs": [],
   "source": [
    "def from_wavenumber_to_angles(k_x, k_y):\n",
    "    phi = 0 if np.sqrt(k_x**2 + k_y**2) == 0 else np.sign(k_y) * np.arccos(k_x / np.sqrt(k_x**2 + k_y**2))\n",
    "    theta = np.arccos(\n",
    "        np.sqrt(k_c**2 - k_x**2 - k_y**2) / k_c\n",
    "    )\n",
    "    return (theta, phi)"
   ]
  },
  {
   "cell_type": "markdown",
   "metadata": {},
   "source": [
    "#### $\\Omega\\left( l_x, l_y \\right)$"
   ]
  },
  {
   "cell_type": "markdown",
   "metadata": {},
   "source": [
    "$$\n",
    "\\Omega \\left( l_x, l_y \\right) = \\left\\{ {\\left(r, \\theta, \\phi\\right)} \\mid {\\frac{2 \\pi l_x}{L_x} \\leq k_x \\leq \\frac{2 \\pi\\left(l_x+1\\right)}{L_x}, \\frac{2 \\pi l_y}{L_y} \\leq k_y \\leq \\frac{2 \\pi\\left(l_y+1\\right)}{L_y}}, r=1 \\right\\}\n",
    "$$"
   ]
  },
  {
   "cell_type": "markdown",
   "metadata": {},
   "source": [
    "#### Angular Power PDF:"
   ]
  },
  {
   "cell_type": "markdown",
   "metadata": {},
   "source": [
    "$$\n",
    "p_i(\\theta, \\phi)=\\frac{\\alpha_i}{4 \\pi \\sinh \\alpha_i} \\cdot \\exp \\alpha\\left\\{\\sin \\theta \\sin \\theta_i \\cos \\left(\\phi-\\phi_i\\right)+\\cos \\theta \\cos \\theta_i\\right\\}\n",
    "$$"
   ]
  },
  {
   "cell_type": "markdown",
   "metadata": {},
   "source": [
    "$$\n",
    "A^2\\left(\\theta, \\phi\\right) = \\sum_{i\\in \\left\\{1,\\dots,N_c\\right\\}} \\omega_i p_i\\left(\\theta,\\phi\\right)\n",
    "$$"
   ]
  },
  {
   "cell_type": "code",
   "execution_count": 6,
   "metadata": {
    "is_executing": true
   },
   "outputs": [],
   "source": [
    "cluster_para['cluster_num'] = len(cluster_para['clusters'])\n",
    "\n",
    "def single_cluster_PDF(theta, phi, theta_cen, phi_cen, alpha):\n",
    "    amp = alpha / (\n",
    "        4 * np.pi * np.sinh(alpha)\n",
    "    )\n",
    "    exp_func = np.exp(\n",
    "        alpha * (\n",
    "            np.sin(theta) * np.sin(theta_cen) * np.cos(phi - phi_cen) + np.cos(theta) * np.cos(theta_cen)\n",
    "        )\n",
    "    )\n",
    "    return amp * exp_func\n",
    "\n",
    "def single_cluster_PDF_wrt_wavenumber(k_x, k_y, theta_cen, phi_cen, alpha):\n",
    "    if k_x**2 + k_y**2 > k_c**2:\n",
    "        return 0\n",
    "    else:\n",
    "        (theta, phi) = from_wavenumber_to_angles(k_x, k_y)\n",
    "        return single_cluster_PDF(\n",
    "            theta=theta,\n",
    "            phi=phi,\n",
    "            theta_cen = theta_cen,\n",
    "            phi_cen = phi_cen,\n",
    "            alpha = alpha,\n",
    "        )   \n",
    "\n",
    "def multi_cluster_PDF(k_x, k_y, cluster_para):\n",
    "    (theta, phi) = from_wavenumber_to_angles(k_x, k_y)\n",
    "    PDF = 0\n",
    "    for cluster_id in range(cluster_para['cluster_num']):\n",
    "        PDF += single_cluster_PDF(\n",
    "            theta=theta,\n",
    "            phi=phi,\n",
    "            theta_cen = cluster_para['clusters'][cluster_id]['theta'],\n",
    "            phi_cen = cluster_para['clusters'][cluster_id]['phi'],\n",
    "            alpha = cluster_para['clusters'][cluster_id]['alpha'],\n",
    "        ) * cluster_para['clusters'][cluster_id]['weight']\n",
    "    return PDF\n",
    "\n",
    "def multi_cluster_PDF_wrt_wavenumber(k_x, k_y, cluster_para):\n",
    "    # (theta, phi) = from_wavenumber_to_angles(k_x, k_y)\n",
    "    PDF = 0\n",
    "    for cluster_id in range(cluster_para['cluster_num']):\n",
    "        PDF += single_cluster_PDF_wrt_wavenumber(\n",
    "            k_x=k_x,\n",
    "            k_y=k_y,\n",
    "            theta_cen = cluster_para['clusters'][cluster_id]['theta'],\n",
    "            phi_cen = cluster_para['clusters'][cluster_id]['phi'],\n",
    "            alpha = cluster_para['clusters'][cluster_id]['alpha'],\n",
    "        ) * cluster_para['clusters'][cluster_id]['weight']\n",
    "    return PDF\n",
    "\n",
    "def show_multi_cluster_PDF(cluster_para,resolution=100):\n",
    "    k_x_test = 2 * np.pi / L_x * np.linspace(-l_x_abs_max, l_x_abs_max, resolution)\n",
    "    k_y_test = 2 * np.pi / L_x * np.linspace(-l_y_abs_max, l_y_abs_max, resolution)\n",
    "    k_x_mesh, k_y_mesh = np.meshgrid(k_x_test, k_y_test)\n",
    "    PDF_mesh = np.zeros_like(k_x_mesh)\n",
    "    for i in range(len(k_x_test)):\n",
    "        for j in range(len(k_y_test)):\n",
    "            PDF_mesh[i, j] = multi_cluster_PDF(\n",
    "                k_x = k_x_test[i],\n",
    "                k_y = k_y_test[j],\n",
    "                cluster_para = cluster_para,\n",
    "            )\n",
    "    plt.figure(figsize=(8, 8))\n",
    "    plt.imshow(PDF_mesh, extent=[-l_x_abs_max, l_x_abs_max, -l_y_abs_max, l_y_abs_max])\n",
    "    plt.colorbar()\n",
    "    plt.show()\n",
    "\n",
    "# show_multi_cluster_PDF(cluster_para,resolution=200)"
   ]
  },
  {
   "cell_type": "markdown",
   "metadata": {},
   "source": [
    "#### Wavenumber Domain Variance"
   ]
  },
  {
   "cell_type": "markdown",
   "metadata": {},
   "source": [
    "$$\n",
    "\\sigma_f^2\\left(l_x, l_y\\right) = \\iint_{\\Omega_R\\left(l_x, l_y\\right)} A^2(\\theta, \\phi) \\sin \\theta \\mathrm{d} \\theta \\mathrm{d} \\phi\n",
    "$$\n",
    "\n",
    "$$\n",
    "=\\int_{\\frac{2 \\pi l_y}{L_{R, y}}}^{\\frac{2 \\pi\\left(l_y+1\\right)}{L_{R, y}}} \\int_{\\frac{2 \\pi l_x}{L_{R, x}}}^{\\frac{2 \\pi\\left(l_x+1\\right)}{L_{R, x}}} \\frac{A^2\\left(k_x, k_y\\right)}{\\sqrt{k^2-k_x^2-k_y^2}} d k_x d k_y\n",
    "$$"
   ]
  },
  {
   "cell_type": "code",
   "execution_count": 7,
   "metadata": {
    "is_executing": true
   },
   "outputs": [
    {
     "name": "stderr",
     "output_type": "stream",
     "text": [
      "/var/folders/n6/9zkr6zk96qz10ctnvn_mhc840000gn/T/ipykernel_32184/3765313644.py:5: RuntimeWarning: divide by zero encountered in scalar divide\n",
      "  res = multi_cluster_PDF(\n"
     ]
    }
   ],
   "source": [
    "def multi_cluster_integral_func(k_x, k_y):\n",
    "    if k_x**2 + k_y**2 > k_c**2:\n",
    "        return np.nan\n",
    "    else:\n",
    "        res = multi_cluster_PDF(\n",
    "            k_x=k_x,\n",
    "            k_y=k_y,\n",
    "            cluster_para=cluster_para,\n",
    "        ) / np.sqrt(\n",
    "            k_c**2 - k_x**2 - k_y**2\n",
    "        )\n",
    "        return res\n",
    "\n",
    "def single_variance(l_x, l_y, resolution=100):\n",
    "    # integral region\n",
    "    # k_x from 2*np.pi * l_x/ L_x to 2*np.pi * (l_x+1)/ L_x \n",
    "    # k_y from 2*np.pi * l_y/ L_y to 2*np.pi * (l_y+1)/ L_y\n",
    "    k_x_region = np.linspace(2*np.pi * l_x/ L_x, 2*np.pi * (l_x+1)/ L_x, resolution)\n",
    "    k_y_region = np.linspace(2*np.pi * l_y/ L_y, 2*np.pi * (l_y+1)/ L_y, resolution)\n",
    "    \n",
    "    # mesh grid\n",
    "    k_mesh = np.meshgrid(k_x_region, k_y_region)\n",
    "    \n",
    "    # grid size\n",
    "    dk = (k_x_region[1] - k_x_region[0]) * (k_y_region[1] - k_y_region[0])\n",
    "    \n",
    "    integral_res = 0\n",
    "    for k_x in k_x_region:\n",
    "        for k_y in k_y_region:\n",
    "            integral_res += multi_cluster_integral_func(k_x, k_y)\n",
    "    \n",
    "    return integral_res * dk\n",
    "\n",
    "l_x_grid = np.arange(-l_x_abs_max, l_x_abs_max+1)\n",
    "l_y_grid = np.arange(-l_y_abs_max, l_y_abs_max+1)\n",
    "l_mesh = np.meshgrid(l_x_grid, l_y_grid)\n",
    "\n",
    "variance = np.zeros((2*l_x_abs_max+1, 2*l_y_abs_max+1))\n",
    "\n",
    "for l_x in range(-l_x_abs_max, l_x_abs_max+1):\n",
    "    for l_y in range(-l_y_abs_max, l_y_abs_max+1):\n",
    "        l_x_idx = l_x + l_x_abs_max\n",
    "        l_y_idx = l_y + l_y_abs_max\n",
    "        variance[l_x_idx, l_y_idx] = single_variance(l_x, l_y, resolution=10)\n",
    "\n",
    "# plot\n",
    "\n",
    "def visualize_wavenumber_variance(variance):\n",
    "    # plt.figure(figsize=(8, 6))\n",
    "    plt.imshow(variance, cmap='jet', extent=[-l_x_abs_max, l_x_abs_max, -l_y_abs_max, l_y_abs_max])\n",
    "    plt.colorbar()\n",
    "    plt.title('Variance of the channel')\n",
    "# visualize_wavenumber_variance(variance)"
   ]
  },
  {
   "cell_type": "markdown",
   "metadata": {},
   "source": [
    "#### Dictionary Matrix"
   ]
  },
  {
   "cell_type": "markdown",
   "metadata": {},
   "source": [
    "$$\n",
    "[{\\bf \\Psi}]_{n, l}=\\frac{1}{\\sqrt{N}} \\exp j\\left\\{\\frac{2 \\pi l_x}{L_x} \\delta \\cdot n_x+\\frac{2 \\pi l_y}{L_y} \\delta \\cdot n_y\\right\\}\n",
    "$$"
   ]
  },
  {
   "cell_type": "code",
   "execution_count": 8,
   "metadata": {
    "is_executing": true
   },
   "outputs": [],
   "source": [
    "def Psi_col(l_pair):\n",
    "    l_x = l_pair[0]\n",
    "    l_y = l_pair[1]\n",
    "    amp = 1 / np.sqrt(N)\n",
    "    exp_func = np.exp(\n",
    "        1j * (\n",
    "            2*np.pi * l_x / L_x * delta * (np.arange(N_x) - (N_x - 1) / 2) + \\\n",
    "                2*np.pi * l_y / L_y * delta * (np.arange(N_y) - (N_y - 1) / 2)[:, np.newaxis]\n",
    "        )\n",
    "    )\n",
    "    vec = np.reshape(exp_func, (N_x*N_y, ))\n",
    "    return amp * vec\n",
    "\n",
    "# a = Psi_col((1, 1))\n",
    "# np.shape(a)\n",
    "\n",
    "xi_norm = len(xi)\n",
    "Psi = np.zeros((N, xi_norm), dtype=np.complex_)\n",
    "\n",
    "for l, l_pair in enumerate(xi):\n",
    "    Psi[:, l] = Psi_col(l_pair)\n",
    "    # print(l_pair)"
   ]
  },
  {
   "cell_type": "markdown",
   "metadata": {},
   "source": [
    "$$\n",
    "\\left[ {\\bf\\Psi}^{a}  \\right]_{n, n^\\prime} = \\frac{1}{\\sqrt{N}} \\exp j \\left\\{\n",
    "    \\frac{2\\pi n^\\prime_x}{N_x}\\cdot n_x + \\frac{2\\pi n^\\prime_y}{N_y} \\cdot n_y\n",
    "\\right\\}\n",
    "$$"
   ]
  },
  {
   "cell_type": "code",
   "execution_count": 9,
   "metadata": {
    "is_executing": true
   },
   "outputs": [],
   "source": [
    "def Psi_AD_col(n_prime_pair):\n",
    "    n_prime_x = n_prime_pair[0]\n",
    "    n_prime_y = n_prime_pair[1]\n",
    "    amp = 1 / np.sqrt(N)\n",
    "    exp_func = np.exp(\n",
    "        1j * (\n",
    "            2*np.pi * n_prime_x / N_x * (np.arange(N_x) - (N_x - 1) / 2) + \\\n",
    "                2*np.pi * n_prime_y / N_y * (np.arange(N_y) - (N_y - 1) / 2)[:, np.newaxis]\n",
    "        )\n",
    "    )\n",
    "    vec = np.reshape(exp_func, (N_x*N_y, ))\n",
    "    return amp * vec\n",
    "\n",
    "xi_AD_norm = len(xi_AD)\n",
    "Psi_AD = np.zeros((N, xi_AD_norm), dtype=np.complex_)\n",
    "for n_prime, n_prime_pair in enumerate(xi_AD):\n",
    "    Psi_AD[:, n_prime] = Psi_AD_col(n_prime_pair)\n",
    "    # print(n_prime_pair)"
   ]
  },
  {
   "cell_type": "markdown",
   "metadata": {},
   "source": [
    "$$\n",
    "\\left[ {\\bf H}_a \\right]_{l_x, l_y} \\sim \\mathcal{CN} \\left(0, \\sigma_f^2\\left(l_x, l_y\\right)\\right)\n",
    "$$"
   ]
  },
  {
   "cell_type": "code",
   "execution_count": 10,
   "metadata": {
    "is_executing": true
   },
   "outputs": [],
   "source": [
    "vec_sigma_f = np.mat(np.zeros((xi_norm, 1)))\n",
    "for l, l_pair in enumerate(xi):\n",
    "    l_x = l_pair[0]\n",
    "    l_y = l_pair[1]\n",
    "    vec_sigma_f[l] = variance[l_x + l_x_abs_max, l_y + l_y_abs_max]\n",
    "    # if nan\n",
    "    if np.isnan(vec_sigma_f[l]):\n",
    "        vec_sigma_f[l] = 0\n",
    "\n",
    "np.random.seed(0)\n",
    "vec_H_a = np.mat(np.random.normal(0, 1, (xi_norm, 1)) + 1j * np.random.normal(0, 1, (xi_norm, 1)))\n",
    "\n",
    "# Hadamard product of vec_sigma_f and vec_H_a\n",
    "vec_H_a = np.multiply(vec_sigma_f, vec_H_a) \n",
    "\n",
    "\n",
    "# visualize the channel\n",
    "def visualize_wavenumber_domain_channel(vec_H_a):\n",
    "    mat_H_a = np.mat(np.zeros((2*l_x_abs_max+1, 2*l_y_abs_max+1), dtype=complex))\n",
    "    # all set to np.nan in mat_H_a\n",
    "    mat_H_a[:,:] = np.nan\n",
    "    for l, l_pair in enumerate(xi):\n",
    "        l_x = l_pair[0]\n",
    "        l_y = l_pair[1]\n",
    "        mat_H_a[l_x + l_x_abs_max, l_y + l_y_abs_max] = vec_H_a[l]\n",
    "\n",
    "    # plt.figure(figsize=(10, 10))\n",
    "    plt.imshow(np.abs(mat_H_a),extent=[-l_x_abs_max, l_x_abs_max, -l_y_abs_max, l_y_abs_max], cmap='hot')\n",
    "    plt.colorbar()\n",
    "    return mat_H_a\n",
    "# visualize_wavenumber_domain_channel(vec_H_a)"
   ]
  },
  {
   "cell_type": "markdown",
   "metadata": {},
   "source": [
    "$$\n",
    "{\\bf H}\\in \\mathbb{C}^{N\\times 1} = \\underbrace{{\\bf \\Psi}}_{\\mathbb{C}^{N \\times \\left|\\xi \\right|}} {\\rm vec}\\left( {\\bf H}_a \\right)\n",
    "$$"
   ]
  },
  {
   "cell_type": "code",
   "execution_count": 11,
   "metadata": {
    "is_executing": true
   },
   "outputs": [],
   "source": [
    "H_channel = np.zeros((N,1), dtype=np.complex64)\n",
    "H_channel = Psi * vec_H_a"
   ]
  },
  {
   "cell_type": "markdown",
   "metadata": {},
   "source": [
    "#### DFT power spectral"
   ]
  },
  {
   "cell_type": "code",
   "execution_count": 12,
   "metadata": {
    "is_executing": true
   },
   "outputs": [],
   "source": [
    "def DFT_power_spectrum(H_channel):\n",
    "    # DFT power spectrum of the channel\n",
    "    vec_H_DFT = np.reshape(\n",
    "        np.fft.fft2(np.reshape(H_channel, (N_x, N_y))),\n",
    "        (-1, 1)\n",
    "    )\n",
    "    DFT_power = np.abs(np.fft.fft2(np.reshape(H_channel, (N_x, N_y))))\n",
    "\n",
    "    # element shift according to the DFT power spectrum\n",
    "    DFT_power = np.fft.fftshift(DFT_power)\n",
    "    \n",
    "    # normalize the DFT power spectrum\n",
    "    DFT_power = DFT_power / np.max(DFT_power)\n",
    "\n",
    "    # visualize the DFT power spectrum\n",
    "    # plt.figure(figsize=(10, 10))\n",
    "    plt.imshow(DFT_power, cmap='jet', extent=[-np.pi/2, np.pi/2, -np.pi/2, np.pi/2])\n",
    "    plt.colorbar()\n",
    "    plt.title('normmalized DFT power spectrum')\n",
    "    \n",
    "    return vec_H_DFT\n",
    "# DFT_power_spectrum(H_channel)"
   ]
  },
  {
   "cell_type": "markdown",
   "metadata": {},
   "source": [
    "#### From CSI to vec_H_AD"
   ]
  },
  {
   "cell_type": "code",
   "execution_count": 13,
   "metadata": {
    "is_executing": true
   },
   "outputs": [],
   "source": [
    "# visualize the angular domain channel\n",
    "def visualize_angular_domain_channel(vec_H_AD, trim = False):\n",
    "    mat_H_AD = np.mat(np.zeros((N_x, N_y), dtype=complex))\n",
    "    # all set to np.nan in mat_H_a\n",
    "    # mat_H_a[:,:] = np.nan\n",
    "    for n_prime, n_prime_pair in enumerate(xi_AD):\n",
    "        n_prime_x = n_prime_pair[0]\n",
    "        n_prime_y = n_prime_pair[1]\n",
    "        mat_H_AD[n_prime_x + n_x_abs_max, n_prime_y + n_y_abs_max] = vec_H_AD[n_prime]\n",
    "\n",
    "    # plt.figure(figsize=(10, 10))\n",
    "    plt.imshow(np.abs(mat_H_AD), cmap='jet', extent=[- n_x_abs_max, n_x_abs_max, - n_y_abs_max, n_y_abs_max])\n",
    "    \n",
    "    # trim the image only show the center part\n",
    "    if trim:\n",
    "        plt.xlim(-l_x_abs_max, l_x_abs_max)\n",
    "        plt.ylim(-l_y_abs_max, l_y_abs_max)\n",
    "    plt.colorbar()\n",
    "    return mat_H_AD\n",
    "\n",
    "vec_H_AD = Psi_AD * H_channel\n",
    "\n",
    "# visualize_angular_domain_channel(vec_H_AD)"
   ]
  },
  {
   "cell_type": "markdown",
   "metadata": {},
   "source": [
    "#### Analize Sparseness"
   ]
  },
  {
   "cell_type": "code",
   "execution_count": 14,
   "metadata": {
    "is_executing": true
   },
   "outputs": [],
   "source": [
    "def find_real_sparseness(vec_H_a, threshold=0.9):\n",
    "    vec_H_a_abs = np.abs(vec_H_a)\n",
    "    M = vec_H_a_abs.shape[0]\n",
    "    # sort the vector in descending order\n",
    "    vec_H_a_sorted = np.sort(np.reshape(np.array(vec_H_a_abs), (M,)), )\n",
    "    vec_H_a_sorted = np.flip(vec_H_a_sorted, axis=0)\n",
    "    overall_power = np.sum(vec_H_a_sorted)\n",
    "    \n",
    "    K = 0\n",
    "    for i, val in enumerate(vec_H_a_sorted):\n",
    "        if np.sum(vec_H_a_sorted[0:i]) >= threshold * overall_power:\n",
    "            K = i\n",
    "            break\n",
    "    tau = 0\n",
    "    if 2 * K >= M:\n",
    "        tau = vec_H_a_sorted[-1]\n",
    "    else:\n",
    "        tau = vec_H_a_sorted[2 * K]\n",
    "    alpha = vec_H_a_sorted[0]\n",
    "    sparseness = K / M\n",
    "    return sparseness"
   ]
  },
  {
   "cell_type": "markdown",
   "metadata": {},
   "source": [
    "#### Visualize Channel"
   ]
  },
  {
   "cell_type": "code",
   "execution_count": 15,
   "metadata": {
    "is_executing": true
   },
   "outputs": [
    {
     "name": "stderr",
     "output_type": "stream",
     "text": [
      "/var/folders/n6/9zkr6zk96qz10ctnvn_mhc840000gn/T/ipykernel_32184/2878257243.py:25: DeprecationWarning: Conversion of an array with ndim > 0 to a scalar is deprecated, and will error in future. Ensure you extract a single element from your array before performing this operation. (Deprecated NumPy 1.25.)\n",
      "  mat_H_a[l_x + l_x_abs_max, l_y + l_y_abs_max] = vec_H_a[l]\n",
      "/var/folders/n6/9zkr6zk96qz10ctnvn_mhc840000gn/T/ipykernel_32184/4074440541.py:9: DeprecationWarning: Conversion of an array with ndim > 0 to a scalar is deprecated, and will error in future. Ensure you extract a single element from your array before performing this operation. (Deprecated NumPy 1.25.)\n",
      "  mat_H_AD[n_prime_x + n_x_abs_max, n_prime_y + n_y_abs_max] = vec_H_AD[n_prime]\n"
     ]
    },
    {
     "name": "stdout",
     "output_type": "stream",
     "text": [
      "sparseness =  0.1294851794071763\n",
      "sparseness =  0.06778438795745448\n"
     ]
    },
    {
     "data": {
      "image/png": "[encoded data removed]",
      "text/plain": [
       "<Figure size 2000x400 with 8 Axes>"
      ]
     },
     "metadata": {},
     "output_type": "display_data"
    }
   ],
   "source": [
    "# 1 row 3 columns\n",
    "plt.figure(figsize=(20, 4))\n",
    "# sub out of 3 in one row\n",
    "plt.subplot(141)\n",
    "visualize_wavenumber_domain_channel(vec_H_a)\n",
    "\n",
    "plt.subplot(142)\n",
    "visualize_wavenumber_variance(variance)\n",
    "\n",
    "plt.subplot(143)\n",
    "visualize_angular_domain_channel(vec_H_AD)\n",
    "\n",
    "plt.subplot(144)\n",
    "visualize_angular_domain_channel(vec_H_AD, trim=True)\n",
    "\n",
    "# print sparseness\n",
    "print(\"sparseness = \", find_real_sparseness(vec_H_a))\n",
    "print(\"sparseness = \", find_real_sparseness(vec_H_AD))"
   ]
  },
  {
   "cell_type": "markdown",
   "metadata": {},
   "source": [
    "#### Save data"
   ]
  },
  {
   "cell_type": "code",
   "execution_count": 16,
   "metadata": {
    "is_executing": true
   },
   "outputs": [
    {
     "name": "stderr",
     "output_type": "stream",
     "text": [
      "/var/folders/n6/9zkr6zk96qz10ctnvn_mhc840000gn/T/ipykernel_32184/2878257243.py:25: DeprecationWarning: Conversion of an array with ndim > 0 to a scalar is deprecated, and will error in future. Ensure you extract a single element from your array before performing this operation. (Deprecated NumPy 1.25.)\n",
      "  mat_H_a[l_x + l_x_abs_max, l_y + l_y_abs_max] = vec_H_a[l]\n",
      "/var/folders/n6/9zkr6zk96qz10ctnvn_mhc840000gn/T/ipykernel_32184/4074440541.py:9: DeprecationWarning: Conversion of an array with ndim > 0 to a scalar is deprecated, and will error in future. Ensure you extract a single element from your array before performing this operation. (Deprecated NumPy 1.25.)\n",
      "  mat_H_AD[n_prime_x + n_x_abs_max, n_prime_y + n_y_abs_max] = vec_H_AD[n_prime]\n"
     ]
    },
    {
     "data": {
      "image/png": "[encoded data removed]",
      "text/plain": [
       "<Figure size 640x480 with 3 Axes>"
      ]
     },
     "metadata": {},
     "output_type": "display_data"
    }
   ],
   "source": [
    "generate_channel_data = {\n",
    "    'meta_data' :{\n",
    "        'cluster_para' : cluster_para,\n",
    "        'xi' : xi,\n",
    "        'xi_AD' : xi_AD,\n",
    "        'f_c' : f_c,\n",
    "        'N_x' : N_x,\n",
    "        'N_y' : N_y,\n",
    "        'lambda_c' : lambda_c,\n",
    "        'delta' : delta,\n",
    "        'N' : N,\n",
    "        'L_x' : L_x,\n",
    "        'L_y' : L_y,\n",
    "    },\n",
    "    'channel' : {\n",
    "        'H_channel' : H_channel,\n",
    "        'vec_H_a' : vec_H_a,\n",
    "        'vec_H_AD' : vec_H_AD,\n",
    "        'variance' : variance,\n",
    "        'Psi' : Psi,\n",
    "        # 'Psi_AD' : Psi_AD,\n",
    "        'WND_2D': visualize_wavenumber_domain_channel(vec_H_a),\n",
    "        'AD_2D': visualize_angular_domain_channel(vec_H_AD),\n",
    "    }\n",
    "}\n",
    "\n",
    "# save to \\generate_channel_data\\generate_channel_data.mat\n",
    "import scipy.io as sio\n",
    "sio.savemat('data/generate_channel_data.mat', generate_channel_data, format='5', do_compression=True)"
   ]
  },
  {
   "cell_type": "code",
   "execution_count": 17,
   "metadata": {
    "is_executing": true
   },
   "outputs": [
    {
     "data": {
      "text/plain": [
       "3205"
      ]
     },
     "execution_count": 17,
     "metadata": {},
     "output_type": "execute_result"
    }
   ],
   "source": [
    "len(xi)"
   ]
  },
  {
   "cell_type": "code",
   "execution_count": null,
   "metadata": {},
   "outputs": [],
   "source": []
  }
 ],
 "metadata": {
  "kernelspec": {
   "display_name": "base",
   "language": "python",
   "name": "python3"
  },
  "language_info": {
   "codemirror_mode": {
    "name": "ipython",
    "version": 3
   },
   "file_extension": ".py",
   "mimetype": "text/x-python",
   "name": "python",
   "nbconvert_exporter": "python",
   "pygments_lexer": "ipython3",
   "version": "3.11.5"
  },
  "orig_nbformat": 4
 },
 "nbformat": 4,
 "nbformat_minor": 2
}
